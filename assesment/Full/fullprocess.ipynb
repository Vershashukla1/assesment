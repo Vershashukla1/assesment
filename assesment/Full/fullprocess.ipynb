{
  "nbformat": 4,
  "nbformat_minor": 0,
  "metadata": {
    "colab": {
      "provenance": []
    },
    "kernelspec": {
      "name": "python3",
      "display_name": "Python 3"
    },
    "language_info": {
      "name": "python"
    }
  },
  "cells": [
    {
      "cell_type": "code",
      "source": [
        "from google.colab import files\n",
        "uploaded = files.upload()"
      ],
      "metadata": {
        "colab": {
          "base_uri": "https://localhost:8080/",
          "height": 73
        },
        "id": "Teo4j-uYBrVs",
        "outputId": "1963c8dc-08bc-4812-cff7-90db406395f2"
      },
      "execution_count": 2,
      "outputs": [
        {
          "output_type": "display_data",
          "data": {
            "text/plain": [
              "<IPython.core.display.HTML object>"
            ],
            "text/html": [
              "\n",
              "     <input type=\"file\" id=\"files-44b0516f-4d86-4c08-8c64-2805383c288a\" name=\"files[]\" multiple disabled\n",
              "        style=\"border:none\" />\n",
              "     <output id=\"result-44b0516f-4d86-4c08-8c64-2805383c288a\">\n",
              "      Upload widget is only available when the cell has been executed in the\n",
              "      current browser session. Please rerun this cell to enable.\n",
              "      </output>\n",
              "      <script>// Copyright 2017 Google LLC\n",
              "//\n",
              "// Licensed under the Apache License, Version 2.0 (the \"License\");\n",
              "// you may not use this file except in compliance with the License.\n",
              "// You may obtain a copy of the License at\n",
              "//\n",
              "//      http://www.apache.org/licenses/LICENSE-2.0\n",
              "//\n",
              "// Unless required by applicable law or agreed to in writing, software\n",
              "// distributed under the License is distributed on an \"AS IS\" BASIS,\n",
              "// WITHOUT WARRANTIES OR CONDITIONS OF ANY KIND, either express or implied.\n",
              "// See the License for the specific language governing permissions and\n",
              "// limitations under the License.\n",
              "\n",
              "/**\n",
              " * @fileoverview Helpers for google.colab Python module.\n",
              " */\n",
              "(function(scope) {\n",
              "function span(text, styleAttributes = {}) {\n",
              "  const element = document.createElement('span');\n",
              "  element.textContent = text;\n",
              "  for (const key of Object.keys(styleAttributes)) {\n",
              "    element.style[key] = styleAttributes[key];\n",
              "  }\n",
              "  return element;\n",
              "}\n",
              "\n",
              "// Max number of bytes which will be uploaded at a time.\n",
              "const MAX_PAYLOAD_SIZE = 100 * 1024;\n",
              "\n",
              "function _uploadFiles(inputId, outputId) {\n",
              "  const steps = uploadFilesStep(inputId, outputId);\n",
              "  const outputElement = document.getElementById(outputId);\n",
              "  // Cache steps on the outputElement to make it available for the next call\n",
              "  // to uploadFilesContinue from Python.\n",
              "  outputElement.steps = steps;\n",
              "\n",
              "  return _uploadFilesContinue(outputId);\n",
              "}\n",
              "\n",
              "// This is roughly an async generator (not supported in the browser yet),\n",
              "// where there are multiple asynchronous steps and the Python side is going\n",
              "// to poll for completion of each step.\n",
              "// This uses a Promise to block the python side on completion of each step,\n",
              "// then passes the result of the previous step as the input to the next step.\n",
              "function _uploadFilesContinue(outputId) {\n",
              "  const outputElement = document.getElementById(outputId);\n",
              "  const steps = outputElement.steps;\n",
              "\n",
              "  const next = steps.next(outputElement.lastPromiseValue);\n",
              "  return Promise.resolve(next.value.promise).then((value) => {\n",
              "    // Cache the last promise value to make it available to the next\n",
              "    // step of the generator.\n",
              "    outputElement.lastPromiseValue = value;\n",
              "    return next.value.response;\n",
              "  });\n",
              "}\n",
              "\n",
              "/**\n",
              " * Generator function which is called between each async step of the upload\n",
              " * process.\n",
              " * @param {string} inputId Element ID of the input file picker element.\n",
              " * @param {string} outputId Element ID of the output display.\n",
              " * @return {!Iterable<!Object>} Iterable of next steps.\n",
              " */\n",
              "function* uploadFilesStep(inputId, outputId) {\n",
              "  const inputElement = document.getElementById(inputId);\n",
              "  inputElement.disabled = false;\n",
              "\n",
              "  const outputElement = document.getElementById(outputId);\n",
              "  outputElement.innerHTML = '';\n",
              "\n",
              "  const pickedPromise = new Promise((resolve) => {\n",
              "    inputElement.addEventListener('change', (e) => {\n",
              "      resolve(e.target.files);\n",
              "    });\n",
              "  });\n",
              "\n",
              "  const cancel = document.createElement('button');\n",
              "  inputElement.parentElement.appendChild(cancel);\n",
              "  cancel.textContent = 'Cancel upload';\n",
              "  const cancelPromise = new Promise((resolve) => {\n",
              "    cancel.onclick = () => {\n",
              "      resolve(null);\n",
              "    };\n",
              "  });\n",
              "\n",
              "  // Wait for the user to pick the files.\n",
              "  const files = yield {\n",
              "    promise: Promise.race([pickedPromise, cancelPromise]),\n",
              "    response: {\n",
              "      action: 'starting',\n",
              "    }\n",
              "  };\n",
              "\n",
              "  cancel.remove();\n",
              "\n",
              "  // Disable the input element since further picks are not allowed.\n",
              "  inputElement.disabled = true;\n",
              "\n",
              "  if (!files) {\n",
              "    return {\n",
              "      response: {\n",
              "        action: 'complete',\n",
              "      }\n",
              "    };\n",
              "  }\n",
              "\n",
              "  for (const file of files) {\n",
              "    const li = document.createElement('li');\n",
              "    li.append(span(file.name, {fontWeight: 'bold'}));\n",
              "    li.append(span(\n",
              "        `(${file.type || 'n/a'}) - ${file.size} bytes, ` +\n",
              "        `last modified: ${\n",
              "            file.lastModifiedDate ? file.lastModifiedDate.toLocaleDateString() :\n",
              "                                    'n/a'} - `));\n",
              "    const percent = span('0% done');\n",
              "    li.appendChild(percent);\n",
              "\n",
              "    outputElement.appendChild(li);\n",
              "\n",
              "    const fileDataPromise = new Promise((resolve) => {\n",
              "      const reader = new FileReader();\n",
              "      reader.onload = (e) => {\n",
              "        resolve(e.target.result);\n",
              "      };\n",
              "      reader.readAsArrayBuffer(file);\n",
              "    });\n",
              "    // Wait for the data to be ready.\n",
              "    let fileData = yield {\n",
              "      promise: fileDataPromise,\n",
              "      response: {\n",
              "        action: 'continue',\n",
              "      }\n",
              "    };\n",
              "\n",
              "    // Use a chunked sending to avoid message size limits. See b/62115660.\n",
              "    let position = 0;\n",
              "    do {\n",
              "      const length = Math.min(fileData.byteLength - position, MAX_PAYLOAD_SIZE);\n",
              "      const chunk = new Uint8Array(fileData, position, length);\n",
              "      position += length;\n",
              "\n",
              "      const base64 = btoa(String.fromCharCode.apply(null, chunk));\n",
              "      yield {\n",
              "        response: {\n",
              "          action: 'append',\n",
              "          file: file.name,\n",
              "          data: base64,\n",
              "        },\n",
              "      };\n",
              "\n",
              "      let percentDone = fileData.byteLength === 0 ?\n",
              "          100 :\n",
              "          Math.round((position / fileData.byteLength) * 100);\n",
              "      percent.textContent = `${percentDone}% done`;\n",
              "\n",
              "    } while (position < fileData.byteLength);\n",
              "  }\n",
              "\n",
              "  // All done.\n",
              "  yield {\n",
              "    response: {\n",
              "      action: 'complete',\n",
              "    }\n",
              "  };\n",
              "}\n",
              "\n",
              "scope.google = scope.google || {};\n",
              "scope.google.colab = scope.google.colab || {};\n",
              "scope.google.colab._files = {\n",
              "  _uploadFiles,\n",
              "  _uploadFilesContinue,\n",
              "};\n",
              "})(self);\n",
              "</script> "
            ]
          },
          "metadata": {}
        },
        {
          "output_type": "stream",
          "name": "stdout",
          "text": [
            "Saving raw_data.parquet to raw_data.parquet\n"
          ]
        }
      ]
    },
    {
      "cell_type": "code",
      "source": [
        "import pandas as pd\n",
        "\n",
        "# Assuming the file name is 'your_file.parquet'\n",
        "df = pd.read_parquet('raw_data.parquet')\n"
      ],
      "metadata": {
        "id": "FPf2xt7fCX3M"
      },
      "execution_count": 4,
      "outputs": []
    },
    {
      "cell_type": "code",
      "source": [
        "print(df)"
      ],
      "metadata": {
        "colab": {
          "base_uri": "https://localhost:8080/"
        },
        "id": "aBsBxWHKDpHI",
        "outputId": "4f156b69-f3e5-4638-d676-ba706edc173b"
      },
      "execution_count": 5,
      "outputs": [
        {
          "output_type": "stream",
          "name": "stdout",
          "text": [
            "       latitude  longitude             timestamp  unit\n",
            "0      40.23426  -77.13796  2023-12-05T23:13:40Z  1000\n",
            "1      40.23422  -77.13796  2023-12-05T23:13:40Z  1000\n",
            "2      40.23419  -77.13795  2023-12-05T23:13:40Z  1000\n",
            "3      40.23412  -77.13792  2023-12-05T23:13:40Z  1000\n",
            "4      40.23412  -77.13792  2023-12-05T23:13:40Z  1000\n",
            "...         ...        ...                   ...   ...\n",
            "73467  42.98914  -74.40199  2023-12-11T02:50:02Z  2000\n",
            "73468  42.98919  -74.40328  2023-12-11T02:50:09Z  2000\n",
            "73469  42.98919  -74.40328  2023-12-11T02:50:09Z  2000\n",
            "73470  42.98919  -74.40328  2023-12-11T02:50:09Z  2000\n",
            "73471  42.98919  -74.40332  2023-12-11T02:50:09Z  2000\n",
            "\n",
            "[73472 rows x 4 columns]\n"
          ]
        }
      ]
    },
    {
      "cell_type": "code",
      "source": [
        "import pandas as pd\n",
        "from datetime import datetime, timedelta\n",
        "\n",
        "import pandas as pd\n",
        "from datetime import timedelta\n",
        "\n",
        "# Assuming 'df' is your DataFrame\n",
        "# Convert 'timestamp' column to datetime\n",
        "df['timestamp'] = pd.to_datetime(df['timestamp'])\n",
        "\n",
        "# Sort the DataFrame by unit and timestamp\n",
        "df.sort_values(['unit', 'timestamp'], inplace=True)\n",
        "\n",
        "# Function to determine trip number based on time difference\n",
        "def get_trip_number(timestamps):\n",
        "    trip_number = 0\n",
        "    trip_start_time = timestamps.iloc[0]\n",
        "\n",
        "    for timestamp in timestamps:\n",
        "        if timestamp - trip_start_time > timedelta(hours=7):\n",
        "            trip_start_time = timestamp\n",
        "            trip_number += 1\n",
        "\n",
        "    return trip_number\n",
        "df['trip_number'] = df.groupby('unit')['timestamp'].transform(get_trip_number)\n",
        "\n",
        "for (unit, trip), trip_data in df.groupby(['unit', 'trip_number']):\n",
        "    trip_data.to_csv(f'{unit}_{trip}.csv', index=False)\n",
        "\n",
        "\n"
      ],
      "metadata": {
        "id": "n5iZZCAGDwIj"
      },
      "execution_count": 18,
      "outputs": []
    },
    {
      "cell_type": "code",
      "source": [
        "!unzip MapUp-Data-Assessment-E-main.zip"
      ],
      "metadata": {
        "colab": {
          "base_uri": "https://localhost:8080/"
        },
        "id": "vvGM8f7LO49z",
        "outputId": "8377111d-064f-4857-eada-218d4045d282"
      },
      "execution_count": 20,
      "outputs": [
        {
          "output_type": "stream",
          "name": "stdout",
          "text": [
            "Archive:  MapUp-Data-Assessment-E-main.zip\n",
            "4abf9fc911cabf5b8751847a79708cf5ce2fc5fc\n",
            "   creating: MapUp-Data-Assessment-E-main/\n",
            "  inflating: MapUp-Data-Assessment-E-main/.env  \n",
            " extracting: MapUp-Data-Assessment-E-main/.gitignore  \n",
            "  inflating: MapUp-Data-Assessment-E-main/README.md  \n",
            "   creating: MapUp-Data-Assessment-E-main/evaluation_data/\n",
            "   creating: MapUp-Data-Assessment-E-main/evaluation_data/input/\n",
            "  inflating: MapUp-Data-Assessment-E-main/evaluation_data/input/raw_data.parquet  \n",
            "  inflating: MapUp-Data-Assessment-E-main/excel-assessment.xlsm  \n",
            "  inflating: MapUp-Data-Assessment-E-main/requirements.txt  \n",
            "   creating: MapUp-Data-Assessment-E-main/sample_data/\n",
            "   creating: MapUp-Data-Assessment-E-main/sample_data/input/\n",
            "  inflating: MapUp-Data-Assessment-E-main/sample_data/input/test_data.parquet  \n",
            "   creating: MapUp-Data-Assessment-E-main/sample_data/output/\n",
            "   creating: MapUp-Data-Assessment-E-main/sample_data/output/process1/\n",
            "  inflating: MapUp-Data-Assessment-E-main/sample_data/output/process1/2000_0.csv  \n",
            "  inflating: MapUp-Data-Assessment-E-main/sample_data/output/process1/2000_1.csv  \n",
            "   creating: MapUp-Data-Assessment-E-main/sample_data/output/process2/\n",
            "  inflating: MapUp-Data-Assessment-E-main/sample_data/output/process2/2000_0.json  \n",
            "  inflating: MapUp-Data-Assessment-E-main/sample_data/output/process2/2000_1.json  \n",
            "   creating: MapUp-Data-Assessment-E-main/sample_data/output/process3/\n",
            "  inflating: MapUp-Data-Assessment-E-main/sample_data/output/process3/transformed_data.csv  \n"
          ]
        }
      ]
    },
    {
      "cell_type": "code",
      "source": [
        "%run process1.py --to_process /path/to/your/input_file.parquet --output_dir /path/to/your/output_directory\n",
        "\n",
        "\n",
        "\n"
      ],
      "metadata": {
        "colab": {
          "base_uri": "https://localhost:8080/"
        },
        "id": "e_YSDClOHGZH",
        "outputId": "0b1b1bec-4752-40d0-abdc-fd4bb9b795e3"
      },
      "execution_count": 16,
      "outputs": [
        {
          "output_type": "stream",
          "name": "stdout",
          "text": [
            "File not found: C:\\Users\\VERSHA\\Desktop\\project\\1000_0.csv\n"
          ]
        }
      ]
    },
    {
      "cell_type": "code",
      "source": [
        "pip install requests python-dotenv\n"
      ],
      "metadata": {
        "colab": {
          "base_uri": "https://localhost:8080/"
        },
        "id": "2Mn3KY_fQjf9",
        "outputId": "9a4a5009-6b99-4bdc-b68d-11c23da3e425"
      },
      "execution_count": 21,
      "outputs": [
        {
          "output_type": "stream",
          "name": "stdout",
          "text": [
            "Requirement already satisfied: requests in /usr/local/lib/python3.10/dist-packages (2.31.0)\n",
            "Collecting python-dotenv\n",
            "  Downloading python_dotenv-1.0.0-py3-none-any.whl (19 kB)\n",
            "Requirement already satisfied: charset-normalizer<4,>=2 in /usr/local/lib/python3.10/dist-packages (from requests) (3.3.2)\n",
            "Requirement already satisfied: idna<4,>=2.5 in /usr/local/lib/python3.10/dist-packages (from requests) (3.6)\n",
            "Requirement already satisfied: urllib3<3,>=1.21.1 in /usr/local/lib/python3.10/dist-packages (from requests) (2.0.7)\n",
            "Requirement already satisfied: certifi>=2017.4.17 in /usr/local/lib/python3.10/dist-packages (from requests) (2023.11.17)\n",
            "Installing collected packages: python-dotenv\n",
            "Successfully installed python-dotenv-1.0.0\n"
          ]
        }
      ]
    },
    {
      "cell_type": "code",
      "source": [
        "with open('.env', 'w') as f:\n",
        "    f.write(\"TOLLGURU_API_KEY=your_api_key\\n\")\n",
        "    f.write(\"TOLLGURU_API_URL=https://apis.tollguru.com\\n\")\n"
      ],
      "metadata": {
        "id": "p8n72upBSOQE"
      },
      "execution_count": 28,
      "outputs": []
    },
    {
      "cell_type": "code",
      "source": [
        "from dotenv import load_dotenv\n",
        "load_dotenv()\n"
      ],
      "metadata": {
        "colab": {
          "base_uri": "https://localhost:8080/"
        },
        "id": "G9twRlFwSWMu",
        "outputId": "694a4cd8-f5f4-4389-d264-b0ea42ffcde7"
      },
      "execution_count": 29,
      "outputs": [
        {
          "output_type": "execute_result",
          "data": {
            "text/plain": [
              "True"
            ]
          },
          "metadata": {},
          "execution_count": 29
        }
      ]
    },
    {
      "cell_type": "code",
      "source": [
        "import os\n",
        "print(os.getenv('TOLLGURU_API_KEY'))\n",
        "print(os.getenv('TOLLGURU_API_URL'))\n"
      ],
      "metadata": {
        "colab": {
          "base_uri": "https://localhost:8080/"
        },
        "id": "wzfyVV53SgDL",
        "outputId": "f12c5df4-0117-402c-d0e9-43b038c4db57"
      },
      "execution_count": 30,
      "outputs": [
        {
          "output_type": "stream",
          "name": "stdout",
          "text": [
            "your_api_key\n",
            "https://apis.tollguru.com\n"
          ]
        }
      ]
    },
    {
      "cell_type": "code",
      "source": [
        "import os\n",
        "import requests\n",
        "from concurrent.futures import ThreadPoolExecutor\n",
        "from dotenv import load_dotenv\n",
        "\n",
        "# Load environment variables from the .env file\n",
        "load_dotenv()\n",
        "\n",
        "# TollGuru API key and URL\n",
        "TOLLGURU_API_KEY = os.getenv('TOLLGURU_API_KEY')\n",
        "TOLLGURU_API_URL = os.getenv('TOLLGURU_API_URL')\n",
        "\n",
        "# API parameters\n",
        "API_PARAMETERS = {'vehicleType': '5AxlesTruck', 'mapProvider': 'osrm'}\n",
        "\n",
        "# Function to upload a CSV file to TollGuru API\n",
        "def upload_to_tollguru(file_path):\n",
        "    if not TOLLGURU_API_URL:\n",
        "        raise ValueError(\"TOLLGURU_API_URL is not defined in the environment variables.\")\n",
        "\n",
        "    url = f'{TOLLGURU_API_URL}/toll/v2/gps-tracks-csv-upload'\n",
        "    headers = {'x-api-key': TOLLGURU_API_KEY, 'Content-Type': 'text/csv'}\n",
        "\n",
        "    with open(file_path, 'rb') as file:\n",
        "        response = requests.post(url, data=file, headers=headers)\n",
        "\n",
        "    return response.json()\n",
        "\n",
        "def main():\n",
        "    # Assuming you have a list of CSV files obtained from Process1\n",
        "    csv_files = [\n",
        "        '/content/MapUp-Data-Assessment-E-main/sample_data/output/process1/2000_0.csv',\n",
        "        '/content/MapUp-Data-Assessment-E-main/sample_data/output/process1/2000_1.csv',  # Add more file paths as needed\n",
        "        # ...\n",
        "    ]\n",
        "\n",
        "    # Create a ThreadPoolExecutor for concurrent uploads\n",
        "    with ThreadPoolExecutor(max_workers=5) as executor:\n",
        "        # Concurrently upload CSV files to TollGuru API\n",
        "        responses = list(executor.map(upload_to_tollguru, csv_files))\n",
        "\n",
        "    # Save JSON responses to files with the same names\n",
        "    for file_path, response in zip(csv_files, responses):\n",
        "        json_file_path = f'{os.path.splitext(file_path)[0]}.json'\n",
        "        with open(json_file_path, 'w') as json_file:\n",
        "            json_file.write(str(response))\n",
        "\n",
        "if __name__ == \"__main__\":\n",
        "    main()\n"
      ],
      "metadata": {
        "id": "mrQXNWvoQqTd"
      },
      "execution_count": 31,
      "outputs": []
    },
    {
      "cell_type": "code",
      "source": [
        "import os\n",
        "import json\n",
        "import csv\n",
        "\n",
        "def process_json_file(json_file):\n",
        "    with open(json_file, 'r') as file:\n",
        "        data = json.load(file)\n",
        "\n",
        "    # Extract relevant data from the JSON file\n",
        "    unit = data.get('unit', '')\n",
        "    trip_id = os.path.splitext(os.path.basename(json_file))[0]\n",
        "    toll_data = data.get('tollData', [])\n",
        "\n",
        "    # Transform data into CSV format\n",
        "    csv_data = []\n",
        "    for toll_info in toll_data:\n",
        "        row = {\n",
        "            'unit': unit,\n",
        "            'trip_id': trip_id,\n",
        "            'toll_loc_id_start': toll_info.get('startToll', {}).get('tollID', ''),\n",
        "            'toll_loc_id_end': toll_info.get('endToll', {}).get('tollID', ''),\n",
        "            'toll_loc_name_start': toll_info.get('startToll', {}).get('tollName', ''),\n",
        "            'toll_loc_name_end': toll_info.get('endToll', {}).get('tollName', ''),\n",
        "            'toll_system_type': toll_info.get('tollSystemType', ''),\n",
        "            'entry_time': toll_info.get('entryTime', ''),\n",
        "            'exit_time': toll_info.get('exitTime', ''),\n",
        "            'tag_cost': toll_info.get('tagCost', ''),\n",
        "            'cash_cost': toll_info.get('cashCost', ''),\n",
        "            'license_plate_cost': toll_info.get('licensePlateCost', ''),\n",
        "        }\n",
        "        csv_data.append(row)\n",
        "\n",
        "    return csv_data\n",
        "\n",
        "def process_json_files(input_dir, output_file):\n",
        "    csv_header = [\n",
        "        'unit', 'trip_id', 'toll_loc_id_start', 'toll_loc_id_end',\n",
        "        'toll_loc_name_start', 'toll_loc_name_end', 'toll_system_type',\n",
        "        'entry_time', 'exit_time', 'tag_cost', 'cash_cost', 'license_plate_cost'\n",
        "    ]\n",
        "\n",
        "    with open(output_file, 'w', newline='') as csv_file:\n",
        "        writer = csv.DictWriter(csv_file, fieldnames=csv_header)\n",
        "        writer.writeheader()\n",
        "\n",
        "        for root, _, files in os.walk(input_dir):\n",
        "            for file in files:\n",
        "                if file.endswith('.json'):\n",
        "                    json_file_path = os.path.join(root, file)\n",
        "                    csv_data = process_json_file(json_file_path)\n",
        "                    writer.writerows(csv_data)\n",
        "\n",
        "if __name__ == \"__main__\":\n",
        "    input_directory = '/content/MapUp-Data-Assessment-E-main/sample_data/output/process2/'\n",
        "    output_csv_file = '/content/MapUp-Data-Assessment-E-main/sample_data/output/process3/transformed_data.csv'\n",
        "\n",
        "    process_json_files(input_directory, output_csv_file)\n"
      ],
      "metadata": {
        "id": "9KnttujdTACn"
      },
      "execution_count": 33,
      "outputs": []
    },
    {
      "cell_type": "code",
      "source": [
        "!zip -r Full ."
      ],
      "metadata": {
        "colab": {
          "base_uri": "https://localhost:8080/"
        },
        "id": "PbZsx8kNZqRr",
        "outputId": "2b9935c6-f0a5-4102-9237-36206406f955"
      },
      "execution_count": 36,
      "outputs": [
        {
          "output_type": "stream",
          "name": "stdout",
          "text": [
            "  adding: .config/ (stored 0%)\n",
            "  adding: .config/configurations/ (stored 0%)\n",
            "  adding: .config/configurations/config_default (deflated 15%)\n",
            "  adding: .config/logs/ (stored 0%)\n",
            "  adding: .config/logs/2023.12.04/ (stored 0%)\n",
            "  adding: .config/logs/2023.12.04/14.20.49.627769.log (deflated 91%)\n",
            "  adding: .config/logs/2023.12.04/14.23.49.652015.log (deflated 58%)\n",
            "  adding: .config/logs/2023.12.04/14.23.59.638040.log (deflated 86%)\n",
            "  adding: .config/logs/2023.12.04/14.26.59.279282.log (deflated 57%)\n",
            "  adding: .config/logs/2023.12.04/14.27.00.107426.log (deflated 56%)\n",
            "  adding: .config/logs/2023.12.04/14.26.48.840108.log (deflated 58%)\n",
            "  adding: .config/active_config (stored 0%)\n",
            "  adding: .config/config_sentinel (stored 0%)\n",
            "  adding: .config/.last_opt_in_prompt.yaml (stored 0%)\n",
            "  adding: .config/default_configs.db (deflated 98%)\n",
            "  adding: .config/.last_survey_prompt.yaml (stored 0%)\n",
            "  adding: .config/.last_update_check.json (deflated 22%)\n",
            "  adding: .config/gce (stored 0%)\n",
            "  adding: Full/ (stored 0%)\n",
            "  adding: Full/excel-assessment.xlsm (deflated 12%)\n",
            "  adding: Full/sample_data/ (stored 0%)\n",
            "  adding: Full/sample_data/input/ (stored 0%)\n",
            "  adding: Full/sample_data/input/test_data.parquet (deflated 21%)\n",
            "  adding: Full/sample_data/output/ (stored 0%)\n",
            "  adding: Full/sample_data/output/process3/ (stored 0%)\n",
            "  adding: Full/sample_data/output/process3/transformed_data.csv (deflated 43%)\n",
            "  adding: Full/sample_data/output/process1/ (stored 0%)\n",
            "  adding: Full/sample_data/output/process1/2000_0.csv (deflated 79%)\n",
            "  adding: Full/sample_data/output/process1/2000_0.json (stored 0%)\n",
            "  adding: Full/sample_data/output/process1/2000_1.json (stored 0%)\n",
            "  adding: Full/sample_data/output/process1/2000_1.csv (deflated 78%)\n",
            "  adding: Full/sample_data/output/process2/ (stored 0%)\n",
            "  adding: Full/sample_data/output/process2/2000_0.json (deflated 58%)\n",
            "  adding: Full/sample_data/output/process2/2000_1.json (deflated 52%)\n",
            "  adding: Full/.env (deflated 14%)\n",
            "  adding: Full/.gitignore (stored 0%)\n",
            "  adding: Full/evaluation_data/ (stored 0%)\n",
            "  adding: Full/evaluation_data/input/ (stored 0%)\n",
            "  adding: Full/evaluation_data/input/raw_data.parquet (deflated 33%)\n",
            "  adding: Full/README.md (deflated 63%)\n",
            "  adding: Full/requirements.txt (deflated 2%)\n",
            "  adding: raw_data.parquet (deflated 33%)\n",
            "  adding: .env (deflated 12%)\n",
            "  adding: 1000_10.csv (deflated 86%)\n",
            "  adding: MapUp-Data-Assessment-E-main.zip (stored 0%)\n",
            "  adding: 2000_6.csv (deflated 83%)\n",
            "  adding: .ipynb_checkpoints/ (stored 0%)\n",
            "  adding: sample_data/ (stored 0%)\n",
            "  adding: sample_data/anscombe.json (deflated 83%)\n",
            "  adding: sample_data/README.md (deflated 42%)\n",
            "  adding: sample_data/california_housing_train.csv (deflated 79%)\n",
            "  adding: sample_data/mnist_test.csv (deflated 88%)\n",
            "  adding: sample_data/california_housing_test.csv (deflated 76%)\n",
            "  adding: sample_data/mnist_train_small.csv (deflated 88%)\n"
          ]
        }
      ]
    }
  ]
}